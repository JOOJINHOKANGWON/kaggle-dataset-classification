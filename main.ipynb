{
 "cells": [
  {
   "cell_type": "code",
   "execution_count": 1,
   "id": "4a1482ea",
   "metadata": {},
   "outputs": [],
   "source": [
    "import numpy as np\n",
    "import os\n",
    "import cv2\n",
    "import matplotlib.pyplot as plt\n",
    "from PIL import Image\n",
    "import pandas as pd"
   ]
  },
  {
   "cell_type": "code",
   "execution_count": 2,
   "id": "54ebbc1a",
   "metadata": {},
   "outputs": [],
   "source": [
    "dataset=pd.read_csv(r'C:\\\\Users\\\\pllab\\\\git\\\\x_ray pnemonia\\\\archive\\\\Chest_xray_Corona_Metadata.csv')"
   ]
  },
  {
   "cell_type": "code",
   "execution_count": 3,
   "id": "538fb4dc",
   "metadata": {},
   "outputs": [],
   "source": [
    "dataset=np.array(dataset)"
   ]
  },
  {
   "cell_type": "code",
   "execution_count": 4,
   "id": "007d5e39",
   "metadata": {},
   "outputs": [],
   "source": [
    "b=0\n",
    "for i in range(len(dataset)):\n",
    "    if not dataset[i][3]=='TRAIN':\n",
    "            b=dataset[i][0]\n",
    "            break"
   ]
  },
  {
   "cell_type": "code",
   "execution_count": 5,
   "id": "5c9086c2",
   "metadata": {},
   "outputs": [
    {
     "data": {
      "text/plain": [
       "5286"
      ]
     },
     "execution_count": 5,
     "metadata": {},
     "output_type": "execute_result"
    }
   ],
   "source": [
    "b"
   ]
  },
  {
   "cell_type": "code",
   "execution_count": 6,
   "id": "a136a241",
   "metadata": {},
   "outputs": [],
   "source": [
    "trainlabel,testlabel=np.split(dataset,[5286],axis=0)"
   ]
  },
  {
   "cell_type": "code",
   "execution_count": 7,
   "id": "cae296f5",
   "metadata": {},
   "outputs": [
    {
     "data": {
      "text/plain": [
       "array([[0, 'IM-0128-0001.jpeg', 'Normal', 'TRAIN', nan, nan],\n",
       "       [1, 'IM-0127-0001.jpeg', 'Normal', 'TRAIN', nan, nan],\n",
       "       [2, 'IM-0125-0001.jpeg', 'Normal', 'TRAIN', nan, nan],\n",
       "       ...,\n",
       "       [5283, '1-s2.0-S0929664620300449-gr2_lrg-a.jpg', 'Pnemonia',\n",
       "        'TRAIN', 'COVID-19', 'Virus'],\n",
       "       [5284, '1-s2.0-S0140673620303706-fx1_lrg.jpg', 'Pnemonia',\n",
       "        'TRAIN', 'COVID-19', 'Virus'],\n",
       "       [5285, '01E392EE-69F9-4E33-BFCE-E5C968654078.jpeg', 'Pnemonia',\n",
       "        'TRAIN', 'COVID-19', 'Virus']], dtype=object)"
      ]
     },
     "execution_count": 7,
     "metadata": {},
     "output_type": "execute_result"
    }
   ],
   "source": [
    "trainlabel"
   ]
  },
  {
   "cell_type": "code",
   "execution_count": 8,
   "id": "c80ec190",
   "metadata": {},
   "outputs": [
    {
     "data": {
      "text/plain": [
       "array([[5286, 'IM-0021-0001.jpeg', 'Normal', 'TEST', nan, nan],\n",
       "       [5287, 'IM-0019-0001.jpeg', 'Normal', 'TEST', nan, nan],\n",
       "       [5288, 'IM-0017-0001.jpeg', 'Normal', 'TEST', nan, nan],\n",
       "       ...,\n",
       "       [5907, 'person1634_virus_2830.jpeg', 'Pnemonia', 'TEST', nan,\n",
       "        'Virus'],\n",
       "       [5908, 'person1633_virus_2829.jpeg', 'Pnemonia', 'TEST', nan,\n",
       "        'Virus'],\n",
       "       [5909, 'person1632_virus_2827.jpeg', 'Pnemonia', 'TEST', nan,\n",
       "        'Virus']], dtype=object)"
      ]
     },
     "execution_count": 8,
     "metadata": {},
     "output_type": "execute_result"
    }
   ],
   "source": [
    "testlabel"
   ]
  },
  {
   "cell_type": "code",
   "execution_count": 9,
   "id": "d4651b32",
   "metadata": {},
   "outputs": [],
   "source": [
    "anslabel=trainlabel[:,2:]\n"
   ]
  },
  {
   "cell_type": "code",
   "execution_count": 10,
   "id": "efed0238",
   "metadata": {},
   "outputs": [
    {
     "data": {
      "text/plain": [
       "array(['Pnemonia', 'TRAIN', 'COVID-19', 'Virus'], dtype=object)"
      ]
     },
     "execution_count": 10,
     "metadata": {},
     "output_type": "execute_result"
    }
   ],
   "source": [
    "anslabel[5284]"
   ]
  },
  {
   "cell_type": "code",
   "execution_count": 11,
   "id": "87e17190",
   "metadata": {},
   "outputs": [
    {
     "data": {
      "text/plain": [
       "array([[0, 'IM-0128-0001.jpeg', 'Normal', 'TRAIN', nan, nan],\n",
       "       [1, 'IM-0127-0001.jpeg', 'Normal', 'TRAIN', nan, nan],\n",
       "       [2, 'IM-0125-0001.jpeg', 'Normal', 'TRAIN', nan, nan],\n",
       "       ...,\n",
       "       [5283, '1-s2.0-S0929664620300449-gr2_lrg-a.jpg', 'Pnemonia',\n",
       "        'TRAIN', 'COVID-19', 'Virus'],\n",
       "       [5284, '1-s2.0-S0140673620303706-fx1_lrg.jpg', 'Pnemonia',\n",
       "        'TRAIN', 'COVID-19', 'Virus'],\n",
       "       [5285, '01E392EE-69F9-4E33-BFCE-E5C968654078.jpeg', 'Pnemonia',\n",
       "        'TRAIN', 'COVID-19', 'Virus']], dtype=object)"
      ]
     },
     "execution_count": 11,
     "metadata": {},
     "output_type": "execute_result"
    }
   ],
   "source": [
    "trainlabel"
   ]
  },
  {
   "cell_type": "code",
   "execution_count": 12,
   "id": "cfb4af81",
   "metadata": {},
   "outputs": [],
   "source": [
    "rows,cols= anslabel.shape[:2]"
   ]
  },
  {
   "cell_type": "code",
   "execution_count": 13,
   "id": "392f3a7c",
   "metadata": {},
   "outputs": [
    {
     "data": {
      "text/plain": [
       "5286"
      ]
     },
     "execution_count": 13,
     "metadata": {},
     "output_type": "execute_result"
    }
   ],
   "source": [
    "rows"
   ]
  },
  {
   "cell_type": "code",
   "execution_count": 14,
   "id": "9d44c263",
   "metadata": {},
   "outputs": [
    {
     "data": {
      "text/plain": [
       "4"
      ]
     },
     "execution_count": 14,
     "metadata": {},
     "output_type": "execute_result"
    }
   ],
   "source": [
    "cols"
   ]
  },
  {
   "cell_type": "code",
   "execution_count": 15,
   "id": "47ed5180",
   "metadata": {},
   "outputs": [],
   "source": [
    "train_label=[]\n",
    "total_train_label=[]\n",
    "for row in range(rows):\n",
    "    for col in range(cols): \n",
    "        if anslabel[row][0]=='Normal': \n",
    "            train_label=[1,0,0,0,0,0,0]\n",
    "        elif anslabel[row][0]=='Pnemonia' and anslabel[row][2]=='nan' and anslabel[row][3]=='Virus': \n",
    "            train_label=[0,1,0,0,0,0,0]\n",
    "        elif anslabel[row][0]=='Pnemonia' and anslabel[row][2]=='nan' and anslabel[row][3]=='bacteria':\n",
    "            train_label=[0,0,1,0,0,0,0]\n",
    "        elif anslabel[row][0]=='Pnemonia' and anslabel[row][2]=='Streptococcus' and anslabel[row][3]=='bacteria': \n",
    "            train_label=[0,0,0,1,0,0,0]\n",
    "        elif anslabel[row][0]=='Pnemonia' and anslabel[row][2]==anslabel[row][2]=='COVID-19' and anslabel[row][3]=='Virus': \n",
    "            train_label=[0,0,0,0,1,0,0]\n",
    "      \n",
    "        elif anslabel[row][0]=='Pnemonia' and anslabel[row][2]==anslabel[row][2]=='ARDS' and anslabel[row][3]=='Stress-Smoking': \n",
    "            train_label=[0,0,0,0,0,1,0]\n",
    "        elif anslabel[row][0]=='Pnemonia' and anslabel[row][2]==anslabel[row][2]=='SARS' and anslabel[row][3]=='Virus': \n",
    "            train_label=[0,0,0,0,0,0,1]\n",
    "    total_train_label.append(train_label)"
   ]
  },
  {
   "cell_type": "code",
   "execution_count": 16,
   "id": "81c34732",
   "metadata": {},
   "outputs": [],
   "source": [
    "total_train_label=np.array(total_train_label)"
   ]
  },
  {
   "cell_type": "code",
   "execution_count": 17,
   "id": "a2b83bb1",
   "metadata": {},
   "outputs": [],
   "source": [
    "trainlabel=np.array(trainlabel)"
   ]
  },
  {
   "cell_type": "code",
   "execution_count": 18,
   "id": "55f45bd7",
   "metadata": {},
   "outputs": [],
   "source": [
    "rows=trainlabel.shape[:1]"
   ]
  },
  {
   "cell_type": "code",
   "execution_count": 19,
   "id": "62055afb",
   "metadata": {},
   "outputs": [
    {
     "data": {
      "text/plain": [
       "(5286, 7)"
      ]
     },
     "execution_count": 19,
     "metadata": {},
     "output_type": "execute_result"
    }
   ],
   "source": [
    "total_train_label.shape"
   ]
  },
  {
   "cell_type": "code",
   "execution_count": 20,
   "id": "66ab0443",
   "metadata": {},
   "outputs": [],
   "source": [
    "x_train=[]\n",
    "\n",
    "for i in range(rows[0]):\n",
    "    img_dir=trainlabel[i][1]\n",
    "    x_train.append(np.array(Image.open('C:\\\\Users\\\\pllab\\\\git\\\\x_ray pnemonia\\\\archive\\\\Coronahack_Chest_XRay_Dataset\\\\Coronahack_Chest-XRay_Dataset\\\\train\\\\'+img_dir)))\n",
    "    "
   ]
  },
  {
   "cell_type": "code",
   "execution_count": 21,
   "id": "850c5d27",
   "metadata": {},
   "outputs": [],
   "source": [
    "x_train=np.array(x_train)"
   ]
  },
  {
   "cell_type": "code",
   "execution_count": 22,
   "id": "4bd41596",
   "metadata": {},
   "outputs": [],
   "source": [
    "np.random.seed(1)"
   ]
  },
  {
   "cell_type": "code",
   "execution_count": 23,
   "id": "537b4951",
   "metadata": {},
   "outputs": [
    {
     "data": {
      "text/plain": [
       "1"
      ]
     },
     "execution_count": 23,
     "metadata": {},
     "output_type": "execute_result"
    }
   ],
   "source": [
    "total_train_label[1][0]"
   ]
  },
  {
   "cell_type": "code",
   "execution_count": 24,
   "id": "48755280",
   "metadata": {},
   "outputs": [],
   "source": [
    "from tensorflow.keras.models import Sequential"
   ]
  },
  {
   "cell_type": "code",
   "execution_count": 25,
   "id": "3ebce421",
   "metadata": {},
   "outputs": [
    {
     "data": {
      "text/plain": [
       "(5286, 200, 200, 3)"
      ]
     },
     "execution_count": 25,
     "metadata": {},
     "output_type": "execute_result"
    }
   ],
   "source": [
    "x_train.shape"
   ]
  },
  {
   "cell_type": "code",
   "execution_count": 26,
   "id": "19f87ce0",
   "metadata": {},
   "outputs": [],
   "source": [
    "from sklearn.model_selection import train_test_split"
   ]
  },
  {
   "cell_type": "code",
   "execution_count": 27,
   "id": "e82faa64",
   "metadata": {},
   "outputs": [],
   "source": [
    "x_train,x_train2,total_train_label,total_train_label2=train_test_split(x_train,total_train_label,test_size=0.3,random_state=42)"
   ]
  },
  {
   "cell_type": "code",
   "execution_count": 28,
   "id": "bf1c8095",
   "metadata": {},
   "outputs": [
    {
     "data": {
      "text/plain": [
       "array([1, 0, 0, 0, 0, 0, 0])"
      ]
     },
     "execution_count": 28,
     "metadata": {},
     "output_type": "execute_result"
    }
   ],
   "source": [
    "total_train_label[0]"
   ]
  },
  {
   "cell_type": "code",
   "execution_count": 29,
   "id": "02b977b6",
   "metadata": {},
   "outputs": [
    {
     "data": {
      "text/plain": [
       "(3700, 200, 200, 3)"
      ]
     },
     "execution_count": 29,
     "metadata": {},
     "output_type": "execute_result"
    }
   ],
   "source": [
    "x_train.shape"
   ]
  },
  {
   "cell_type": "code",
   "execution_count": 30,
   "id": "4c445f28",
   "metadata": {},
   "outputs": [
    {
     "data": {
      "text/plain": [
       "(3700, 7)"
      ]
     },
     "execution_count": 30,
     "metadata": {},
     "output_type": "execute_result"
    }
   ],
   "source": [
    "total_train_label.shape"
   ]
  },
  {
   "cell_type": "code",
   "execution_count": 31,
   "id": "60028892",
   "metadata": {},
   "outputs": [
    {
     "data": {
      "text/plain": [
       "(3700, 200, 200, 3)"
      ]
     },
     "execution_count": 31,
     "metadata": {},
     "output_type": "execute_result"
    }
   ],
   "source": [
    "x_train.shape"
   ]
  },
  {
   "cell_type": "code",
   "execution_count": 32,
   "id": "bf1e47e5",
   "metadata": {},
   "outputs": [],
   "source": [
    "\n",
    "from tensorflow.keras.optimizers import Adam"
   ]
  },
  {
   "cell_type": "code",
   "execution_count": 33,
   "id": "7436083a",
   "metadata": {},
   "outputs": [],
   "source": [
    "from tensorflow.keras.models import Model\n",
    "from tensorflow.keras.layers import Conv2D,MaxPooling2D,GlobalAveragePooling2D,Dense,Dropout\n",
    "from tensorflow.keras.layers import Input\n"
   ]
  },
  {
   "cell_type": "code",
   "execution_count": 34,
   "id": "36fc649a",
   "metadata": {},
   "outputs": [],
   "source": [
    "inputs=Input(shape=(200,200,3))\n",
    "x=Conv2D(32,(3,3),activation='relu')(inputs)\n",
    "x=Conv2D(32,(3,3),activation='relu')(x)\n",
    "x=MaxPooling2D(strides=2)(x)\n",
    "x=Dropout(0.2)(x)\n",
    "x=Conv2D(64,(3,3),activation='relu')(x)\n",
    "x=Conv2D(64,(3,3),activation='relu')(x)\n",
    "x=MaxPooling2D(strides=2)(x)\n",
    "x=Dropout(0.2)(x)\n",
    "x=Conv2D(128,(3,3),activation='relu')(x)\n",
    "x=Conv2D(128,(3,3),activation='relu')(x)\n",
    "x=MaxPooling2D(strides=2)(x)\n",
    "x=Dropout(0.2)(x)\n",
    "\n",
    "\n",
    "x=GlobalAveragePooling2D()(x)\n",
    "\n",
    "x=Dense(7,activation='softmax')(x)\n",
    "\n",
    "model=Model(inputs=inputs,outputs=x)"
   ]
  },
  {
   "cell_type": "code",
   "execution_count": null,
   "id": "4eed1282",
   "metadata": {},
   "outputs": [],
   "source": []
  },
  {
   "cell_type": "code",
   "execution_count": 35,
   "id": "758be105",
   "metadata": {},
   "outputs": [],
   "source": [
    "model.compile(optimizer=Adam(1e-4),\n",
    "             loss='categorical_crossentropy',\n",
    "             metrics=['acc'])"
   ]
  },
  {
   "cell_type": "code",
   "execution_count": null,
   "id": "ec6f420b",
   "metadata": {},
   "outputs": [
    {
     "name": "stdout",
     "output_type": "stream",
     "text": [
      "Epoch 1/15\n",
      "116/116 [==============================] - 35s 264ms/step - loss: 0.8490 - acc: 0.9199 - val_loss: 0.3519 - val_acc: 0.9887\n",
      "Epoch 2/15\n",
      "116/116 [==============================] - 26s 222ms/step - loss: 0.1055 - acc: 0.9847 - val_loss: 0.3692 - val_acc: 0.9887\n",
      "Epoch 3/15\n",
      "116/116 [==============================] - 26s 221ms/step - loss: 0.0733 - acc: 0.9898 - val_loss: 0.5105 - val_acc: 0.9887\n",
      "Epoch 4/15\n",
      "  4/116 [>.............................] - ETA: 21s - loss: 0.0370 - acc: 0.9961"
     ]
    }
   ],
   "source": [
    "model.fit(x_train,total_train_label,\n",
    "         epochs=15,\n",
    "         batch_size=32,\n",
    "         validation_data=(x_train2,total_train_label2))"
   ]
  },
  {
   "cell_type": "code",
   "execution_count": null,
   "id": "90420921",
   "metadata": {},
   "outputs": [],
   "source": []
  },
  {
   "cell_type": "code",
   "execution_count": null,
   "id": "7931f798",
   "metadata": {},
   "outputs": [],
   "source": []
  },
  {
   "cell_type": "code",
   "execution_count": null,
   "id": "e8287040",
   "metadata": {},
   "outputs": [],
   "source": []
  },
  {
   "cell_type": "code",
   "execution_count": null,
   "id": "071bfc73",
   "metadata": {},
   "outputs": [],
   "source": []
  },
  {
   "cell_type": "code",
   "execution_count": null,
   "id": "93db6764",
   "metadata": {},
   "outputs": [],
   "source": []
  },
  {
   "cell_type": "code",
   "execution_count": null,
   "id": "7040add5",
   "metadata": {},
   "outputs": [],
   "source": []
  },
  {
   "cell_type": "code",
   "execution_count": null,
   "id": "61cf4ec1",
   "metadata": {},
   "outputs": [],
   "source": []
  },
  {
   "cell_type": "code",
   "execution_count": null,
   "id": "44a45fae",
   "metadata": {},
   "outputs": [],
   "source": []
  },
  {
   "cell_type": "code",
   "execution_count": null,
   "id": "9f509a15",
   "metadata": {},
   "outputs": [],
   "source": []
  },
  {
   "cell_type": "code",
   "execution_count": null,
   "id": "858c6386",
   "metadata": {},
   "outputs": [],
   "source": []
  },
  {
   "cell_type": "code",
   "execution_count": null,
   "id": "a6e61963",
   "metadata": {},
   "outputs": [],
   "source": []
  },
  {
   "cell_type": "code",
   "execution_count": null,
   "id": "f399ca21",
   "metadata": {},
   "outputs": [],
   "source": []
  },
  {
   "cell_type": "code",
   "execution_count": null,
   "id": "ebfbdbe4",
   "metadata": {},
   "outputs": [],
   "source": []
  }
 ],
 "metadata": {
  "kernelspec": {
   "display_name": "Python 3",
   "language": "python",
   "name": "python3"
  },
  "language_info": {
   "codemirror_mode": {
    "name": "ipython",
    "version": 3
   },
   "file_extension": ".py",
   "mimetype": "text/x-python",
   "name": "python",
   "nbconvert_exporter": "python",
   "pygments_lexer": "ipython3",
   "version": "3.8.5"
  }
 },
 "nbformat": 4,
 "nbformat_minor": 5
}
